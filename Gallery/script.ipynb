{
 "cells": [
  {
   "cell_type": "code",
   "execution_count": 1,
   "source": [
    "import os"
   ],
   "outputs": [],
   "metadata": {}
  },
  {
   "cell_type": "code",
   "execution_count": 26,
   "source": [
    "arr = os.listdir(\"./Images/World Rabies Day\")"
   ],
   "outputs": [],
   "metadata": {}
  },
  {
   "cell_type": "code",
   "execution_count": 27,
   "source": [
    "for i in arr:\r\n",
    "    print(\"[\\\"\"+\"./Images/World Rabies Day/\"+i+\"\\\",\",\"\\\"World Rabies Day\\\"],\")"
   ],
   "outputs": [
    {
     "output_type": "stream",
     "name": "stdout",
     "text": [
      "[\"./Images/World Rabies Day/20210911_201239.webp\", \"World Rabies Day\"],\n",
      "[\"./Images/World Rabies Day/20210911_201254-_1_.webp\", \"World Rabies Day\"],\n",
      "[\"./Images/World Rabies Day/20210911_201254.webp\", \"World Rabies Day\"],\n",
      "[\"./Images/World Rabies Day/20210911_211246-_1_.webp\", \"World Rabies Day\"],\n",
      "[\"./Images/World Rabies Day/20210911_211246.webp\", \"World Rabies Day\"],\n"
     ]
    }
   ],
   "metadata": {}
  },
  {
   "cell_type": "code",
   "execution_count": null,
   "source": [],
   "outputs": [],
   "metadata": {}
  }
 ],
 "metadata": {
  "orig_nbformat": 4,
  "language_info": {
   "name": "python",
   "version": "3.7.5",
   "mimetype": "text/x-python",
   "codemirror_mode": {
    "name": "ipython",
    "version": 3
   },
   "pygments_lexer": "ipython3",
   "nbconvert_exporter": "python",
   "file_extension": ".py"
  },
  "kernelspec": {
   "name": "python3",
   "display_name": "Python 3.7.5 64-bit"
  },
  "interpreter": {
   "hash": "66089b8846fb2b1ce4d133ea1ca5583b4894b9236ac1532920f23c52431036a5"
  }
 },
 "nbformat": 4,
 "nbformat_minor": 2
}