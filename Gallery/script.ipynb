{
 "cells": [
  {
   "cell_type": "code",
   "execution_count": 1,
   "source": [
    "import os"
   ],
   "outputs": [],
   "metadata": {}
  },
  {
   "cell_type": "code",
   "execution_count": 1,
   "source": [
    "arr = os.listdir(\"./Images/WorldRabiesDay\")"
   ],
   "outputs": [],
   "metadata": {}
  },
  {
   "cell_type": "code",
   "execution_count": 2,
   "source": [
    "for i in arr:\r\n",
    "    print(\"[\\\"\"+\"./Images/WorldRabiesDay/\"+i+\"\\\",\",\"\\\"World Rabies Day\\\"],\")"
   ],
   "outputs": [
    {
     "output_type": "stream",
     "name": "stdout",
     "text": [
      "[\"./Images/WorldRabiesDay/WhatsApp Image 2021-09-12 at 12.42.05 PM (1).jpeg\", \"World Rabies Day\"],\n",
      "[\"./Images/WorldRabiesDay/WhatsApp Image 2021-09-12 at 12.42.05 PM (2).jpeg\", \"World Rabies Day\"],\n",
      "[\"./Images/WorldRabiesDay/WhatsApp Image 2021-09-12 at 12.42.05 PM (3).jpeg\", \"World Rabies Day\"],\n",
      "[\"./Images/WorldRabiesDay/WhatsApp Image 2021-09-12 at 12.42.05 PM (4).jpeg\", \"World Rabies Day\"],\n",
      "[\"./Images/WorldRabiesDay/WhatsApp Image 2021-09-12 at 12.42.05 PM.jpeg\", \"World Rabies Day\"],\n"
     ]
    }
   ],
   "metadata": {}
  },
  {
   "cell_type": "code",
   "execution_count": 6,
   "source": [
    "def rename(path,newname,extension):\r\n",
    "    for count, filename in enumerate(os.listdir(path)):\r\n",
    "        dest = newname + str(count).zfill(4) + \".\" + extension\r\n",
    "        os.rename(os.path.join(path, filename), os.path.join(path, dest))\r\n",
    "        print(filename, count)"
   ],
   "outputs": [],
   "metadata": {}
  },
  {
   "cell_type": "code",
   "execution_count": 8,
   "source": [
    "path = input(\"Enter Folder Name\")\r\n",
    "newname = input(\"Enter New name\")\r\n",
    "extension = input(\"Enter the Extension of file\")\r\n",
    "rename(path,newname,extension)"
   ],
   "outputs": [
    {
     "output_type": "stream",
     "name": "stdout",
     "text": [
      "WRD0000..jpeg 0\n",
      "WRD0001..jpeg 1\n",
      "WRD0002..jpeg 2\n",
      "WRD0003..jpeg 3\n",
      "WRD0004..jpeg 4\n"
     ]
    }
   ],
   "metadata": {}
  },
  {
   "cell_type": "code",
   "execution_count": null,
   "source": [],
   "outputs": [],
   "metadata": {}
  }
 ],
 "metadata": {
  "orig_nbformat": 4,
  "language_info": {
   "name": "python",
   "version": "3.7.5",
   "mimetype": "text/x-python",
   "codemirror_mode": {
    "name": "ipython",
    "version": 3
   },
   "pygments_lexer": "ipython3",
   "nbconvert_exporter": "python",
   "file_extension": ".py"
  },
  "kernelspec": {
   "name": "python3",
   "display_name": "Python 3.7.5 64-bit"
  },
  "interpreter": {
   "hash": "66089b8846fb2b1ce4d133ea1ca5583b4894b9236ac1532920f23c52431036a5"
  }
 },
 "nbformat": 4,
 "nbformat_minor": 2
}