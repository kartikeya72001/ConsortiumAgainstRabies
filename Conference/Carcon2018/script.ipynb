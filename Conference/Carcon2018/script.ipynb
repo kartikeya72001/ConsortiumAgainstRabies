{
 "cells": [
  {
   "cell_type": "code",
   "execution_count": 1,
   "source": [
    "import os"
   ],
   "outputs": [],
   "metadata": {}
  },
  {
   "cell_type": "code",
   "execution_count": 8,
   "source": [
    "arr = os.listdir(\"./Images/\")"
   ],
   "outputs": [],
   "metadata": {}
  },
  {
   "cell_type": "code",
   "execution_count": 9,
   "source": [
    "for i in arr:\r\n",
    "    print(\"\\\"./Images/\" + i + \"\\\",\", sep=\"\")"
   ],
   "outputs": [
    {
     "output_type": "stream",
     "name": "stdout",
     "text": [
      "\"./Images/Carcon20180000.jpeg\",\n",
      "\"./Images/Carcon20180001.jpeg\",\n",
      "\"./Images/Carcon20180002.jpeg\",\n",
      "\"./Images/Carcon20180003.jpeg\",\n",
      "\"./Images/Carcon20180004.jpeg\",\n",
      "\"./Images/Carcon20180005.jpeg\",\n",
      "\"./Images/Carcon20180006.jpeg\",\n",
      "\"./Images/Carcon20180007.jpeg\",\n",
      "\"./Images/Carcon20180008.jpeg\",\n",
      "\"./Images/Carcon20180009.jpeg\",\n",
      "\"./Images/Carcon20180010.jpeg\",\n",
      "\"./Images/Carcon20180011.jpeg\",\n",
      "\"./Images/Carcon20180012.jpeg\",\n",
      "\"./Images/Carcon20180013.jpeg\",\n",
      "\"./Images/Carcon20180014.jpeg\",\n",
      "\"./Images/Carcon20180015.jpeg\",\n",
      "\"./Images/Carcon20180016.jpeg\",\n",
      "\"./Images/Carcon20180017.jpeg\",\n",
      "\"./Images/Carcon20180018.jpeg\",\n",
      "\"./Images/Carcon20180019.jpeg\",\n",
      "\"./Images/Carcon20180020.jpeg\",\n",
      "\"./Images/Carcon20180021.jpeg\",\n",
      "\"./Images/Carcon20180022.jpeg\",\n"
     ]
    }
   ],
   "metadata": {}
  },
  {
   "cell_type": "code",
   "execution_count": 6,
   "source": [
    "def rename(path,newname,extension):\r\n",
    "    for count, filename in enumerate(os.listdir(path)):\r\n",
    "        dest = newname + str(count).zfill(4) + \".\" + extension\r\n",
    "        os.rename(os.path.join(path, filename), os.path.join(path, dest))\r\n",
    "        print(filename, count)"
   ],
   "outputs": [],
   "metadata": {}
  },
  {
   "cell_type": "code",
   "execution_count": 7,
   "source": [
    "path = input(\"Enter Folder Name\")\r\n",
    "newname = input(\"Enter New name\")\r\n",
    "extension = input(\"Enter the Extension of file\")\r\n",
    "rename(path,newname,extension)"
   ],
   "outputs": [
    {
     "output_type": "stream",
     "name": "stdout",
     "text": [
      "Carcon20180000..jpeg 0\n",
      "Carcon20180001..jpeg 1\n",
      "Carcon20180002..jpeg 2\n",
      "Carcon20180003..jpeg 3\n",
      "Carcon20180004..jpeg 4\n",
      "Carcon20180005..jpeg 5\n",
      "Carcon20180006..jpeg 6\n",
      "Carcon20180007..jpeg 7\n",
      "Carcon20180008..jpeg 8\n",
      "Carcon20180009..jpeg 9\n",
      "Carcon20180010..jpeg 10\n",
      "Carcon20180011..jpeg 11\n",
      "Carcon20180012..jpeg 12\n",
      "Carcon20180013..jpeg 13\n",
      "Carcon20180014..jpeg 14\n",
      "Carcon20180015..jpeg 15\n",
      "Carcon20180016..jpeg 16\n",
      "Carcon20180017..jpeg 17\n",
      "Carcon20180018..jpeg 18\n",
      "Carcon20180019..jpeg 19\n",
      "Carcon20180020..jpeg 20\n",
      "Carcon20180021..jpeg 21\n",
      "Carcon20180022..jpeg 22\n"
     ]
    }
   ],
   "metadata": {}
  },
  {
   "cell_type": "code",
   "execution_count": null,
   "source": [],
   "outputs": [],
   "metadata": {}
  }
 ],
 "metadata": {
  "orig_nbformat": 4,
  "language_info": {
   "name": "python",
   "version": "3.7.5",
   "mimetype": "text/x-python",
   "codemirror_mode": {
    "name": "ipython",
    "version": 3
   },
   "pygments_lexer": "ipython3",
   "nbconvert_exporter": "python",
   "file_extension": ".py"
  },
  "kernelspec": {
   "name": "python3",
   "display_name": "Python 3.7.5 64-bit"
  },
  "interpreter": {
   "hash": "66089b8846fb2b1ce4d133ea1ca5583b4894b9236ac1532920f23c52431036a5"
  }
 },
 "nbformat": 4,
 "nbformat_minor": 2
}