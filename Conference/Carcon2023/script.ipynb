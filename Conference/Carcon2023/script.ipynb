{
 "cells": [
  {
   "cell_type": "code",
   "execution_count": 1,
   "source": [
    "import os"
   ],
   "outputs": [],
   "metadata": {}
  },
  {
   "cell_type": "code",
   "execution_count": 5,
   "source": [
    "arr = os.listdir(\"./Images/\")"
   ],
   "outputs": [],
   "metadata": {}
  },
  {
   "cell_type": "code",
   "execution_count": 12,
   "source": [
    "for i in arr:\r\n",
    "    print(\"\\\"./Images/\" + i + \"\\\",\", sep=\"\")"
   ],
   "outputs": [
    {
     "output_type": "stream",
     "name": "stdout",
     "text": [
      "\"./Images/Carcon20190000.jpeg\",\n",
      "\"./Images/Carcon20190001.jpeg\",\n",
      "\"./Images/Carcon20190002.jpeg\",\n",
      "\"./Images/Carcon20190003.jpeg\",\n",
      "\"./Images/Carcon20190004.jpeg\",\n",
      "\"./Images/Carcon20190005.jpeg\",\n",
      "\"./Images/Carcon20190006.jpeg\",\n",
      "\"./Images/Carcon20190007.jpeg\",\n",
      "\"./Images/Carcon20190008.jpeg\",\n",
      "\"./Images/Carcon20190009.jpeg\",\n",
      "\"./Images/Carcon20190010.jpeg\",\n",
      "\"./Images/Carcon20190011.jpeg\",\n",
      "\"./Images/Carcon20190012.jpeg\",\n",
      "\"./Images/Carcon20190013.jpeg\",\n",
      "\"./Images/Carcon20190014.jpeg\",\n",
      "\"./Images/Carcon20190015.jpeg\",\n",
      "\"./Images/Carcon20190016.jpeg\",\n"
     ]
    }
   ],
   "metadata": {}
  },
  {
   "cell_type": "code",
   "execution_count": 3,
   "source": [
    "def rename(path,newname,extension):\r\n",
    "    for count, filename in enumerate(os.listdir(path)):\r\n",
    "        dest = newname + str(count).zfill(4) + \".\" + extension\r\n",
    "        os.rename(os.path.join(path, filename), os.path.join(path, dest))\r\n",
    "        print(filename, count)"
   ],
   "outputs": [],
   "metadata": {}
  },
  {
   "cell_type": "code",
   "execution_count": 4,
   "source": [
    "path = input(\"Enter Folder Name\")\r\n",
    "newname = input(\"Enter New name\")\r\n",
    "extension = input(\"Enter the Extension of file\")\r\n",
    "rename(path,newname,extension)"
   ],
   "outputs": [
    {
     "output_type": "stream",
     "name": "stdout",
     "text": [
      "WhatsApp Image 2021-09-12 at 5.44.01 PM (1).jpeg 0\n",
      "WhatsApp Image 2021-09-12 at 5.44.01 PM (10).jpeg 1\n",
      "WhatsApp Image 2021-09-12 at 5.44.01 PM (11).jpeg 2\n",
      "WhatsApp Image 2021-09-12 at 5.44.01 PM (12).jpeg 3\n",
      "WhatsApp Image 2021-09-12 at 5.44.01 PM (13).jpeg 4\n",
      "WhatsApp Image 2021-09-12 at 5.44.01 PM (14).jpeg 5\n",
      "WhatsApp Image 2021-09-12 at 5.44.01 PM (15).jpeg 6\n",
      "WhatsApp Image 2021-09-12 at 5.44.01 PM (16).jpeg 7\n",
      "WhatsApp Image 2021-09-12 at 5.44.01 PM (2).jpeg 8\n",
      "WhatsApp Image 2021-09-12 at 5.44.01 PM (3).jpeg 9\n",
      "WhatsApp Image 2021-09-12 at 5.44.01 PM (4).jpeg 10\n",
      "WhatsApp Image 2021-09-12 at 5.44.01 PM (5).jpeg 11\n",
      "WhatsApp Image 2021-09-12 at 5.44.01 PM (6).jpeg 12\n",
      "WhatsApp Image 2021-09-12 at 5.44.01 PM (7).jpeg 13\n",
      "WhatsApp Image 2021-09-12 at 5.44.01 PM (8).jpeg 14\n",
      "WhatsApp Image 2021-09-12 at 5.44.01 PM (9).jpeg 15\n",
      "WhatsApp Image 2021-09-12 at 5.44.01 PM.jpeg 16\n"
     ]
    }
   ],
   "metadata": {}
  },
  {
   "cell_type": "code",
   "execution_count": null,
   "source": [],
   "outputs": [],
   "metadata": {}
  }
 ],
 "metadata": {
  "orig_nbformat": 4,
  "language_info": {
   "name": "python",
   "version": "3.7.5",
   "mimetype": "text/x-python",
   "codemirror_mode": {
    "name": "ipython",
    "version": 3
   },
   "pygments_lexer": "ipython3",
   "nbconvert_exporter": "python",
   "file_extension": ".py"
  },
  "kernelspec": {
   "name": "python3",
   "display_name": "Python 3.7.5 64-bit"
  },
  "interpreter": {
   "hash": "66089b8846fb2b1ce4d133ea1ca5583b4894b9236ac1532920f23c52431036a5"
  }
 },
 "nbformat": 4,
 "nbformat_minor": 2
}