{
 "cells": [
  {
   "cell_type": "code",
   "execution_count": 1,
   "source": [
    "import os"
   ],
   "outputs": [],
   "metadata": {}
  },
  {
   "cell_type": "code",
   "execution_count": 4,
   "source": [
    "arr = os.listdir(\"./RabiesAwarenessSummit/\")"
   ],
   "outputs": [],
   "metadata": {}
  },
  {
   "cell_type": "code",
   "execution_count": 6,
   "source": [
    "for i in arr:\r\n",
    "    print(\"\\\"\"+\"./WorldRabiesDay/\"+i+\"\\\",\")"
   ],
   "outputs": [
    {
     "output_type": "stream",
     "name": "stdout",
     "text": [
      "\"./WorldRabiesDay/WRD0000.jpeg\",\n",
      "\"./WorldRabiesDay/WRD0001.jpeg\",\n",
      "\"./WorldRabiesDay/WRD0002.jpeg\",\n",
      "\"./WorldRabiesDay/WRD0003.jpeg\",\n",
      "\"./WorldRabiesDay/WRD0004.jpeg\",\n",
      "\"./WorldRabiesDay/WRD0005.jpeg\",\n",
      "\"./WorldRabiesDay/WRD0006.jpeg\",\n",
      "\"./WorldRabiesDay/WRD0007.jpeg\",\n",
      "\"./WorldRabiesDay/WRD0008.jpeg\",\n",
      "\"./WorldRabiesDay/WRD0009.jpeg\",\n",
      "\"./WorldRabiesDay/WRD0010.jpeg\",\n",
      "\"./WorldRabiesDay/WRD0011.jpeg\",\n",
      "\"./WorldRabiesDay/WRD0012.jpeg\",\n",
      "\"./WorldRabiesDay/WRD0013.jpeg\",\n",
      "\"./WorldRabiesDay/WRD0014.jpeg\",\n",
      "\"./WorldRabiesDay/WRD0015.jpeg\",\n",
      "\"./WorldRabiesDay/WRD0016.jpeg\",\n",
      "\"./WorldRabiesDay/WRD0017.jpeg\",\n"
     ]
    }
   ],
   "metadata": {}
  },
  {
   "cell_type": "code",
   "execution_count": 2,
   "source": [
    "def rename(path,newname,extension):\r\n",
    "    for count, filename in enumerate(os.listdir(path)):\r\n",
    "        dest = newname + str(count).zfill(4) + \".\" + extension\r\n",
    "        os.rename(os.path.join(path, filename), os.path.join(path, dest))\r\n",
    "        print(filename, count)"
   ],
   "outputs": [],
   "metadata": {}
  },
  {
   "cell_type": "code",
   "execution_count": 3,
   "source": [
    "path = input(\"Enter Folder Name\")\r\n",
    "newname = input(\"Enter New name\")\r\n",
    "extension = input(\"Enter the Extension of file\")\r\n",
    "rename(path,newname,extension)"
   ],
   "outputs": [
    {
     "output_type": "stream",
     "name": "stdout",
     "text": [
      "WhatsApp Image 2021-09-27 at 5.55.05 PM (1).jpeg 0\n",
      "WhatsApp Image 2021-09-27 at 5.55.05 PM.jpeg 1\n",
      "WhatsApp Image 2021-09-27 at 5.55.06 PM (1).jpeg 2\n",
      "WhatsApp Image 2021-09-27 at 5.55.06 PM.jpeg 3\n",
      "WhatsApp Image 2021-09-27 at 5.55.55 PM (1).jpeg 4\n",
      "WhatsApp Image 2021-09-27 at 5.55.55 PM (2).jpeg 5\n",
      "WhatsApp Image 2021-09-27 at 5.55.55 PM.jpeg 6\n",
      "WhatsApp Image 2021-09-27 at 5.55.56 PM (1).jpeg 7\n",
      "WhatsApp Image 2021-09-27 at 5.55.56 PM.jpeg 8\n",
      "WhatsApp Image 2021-09-27 at 5.56.16 PM (1).jpeg 9\n",
      "WhatsApp Image 2021-09-27 at 5.56.16 PM (2).jpeg 10\n",
      "WhatsApp Image 2021-09-27 at 5.56.16 PM.jpeg 11\n",
      "WhatsApp Image 2021-09-27 at 5.57.05 PM (1).jpeg 12\n",
      "WhatsApp Image 2021-09-27 at 5.57.05 PM.jpeg 13\n"
     ]
    }
   ],
   "metadata": {}
  },
  {
   "cell_type": "code",
   "execution_count": 10,
   "source": [
    "for i in arr:\r\n",
    "    print(\"\"\"<div class=\"col-sm-6 col-md-4\">\r\n",
    "                    <a class=\"lightbox\" href=\"./RabiesAwarenessSummit/{i}\">\r\n",
    "                        <img src=\"./RabiesAwarenessSummit/{i}\" alt=\"Images\">\r\n",
    "                    </a>\r\n",
    "                </div>\"\"\".format(i = i))"
   ],
   "outputs": [
    {
     "output_type": "stream",
     "name": "stdout",
     "text": [
      "<div class=\"col-sm-6 col-md-4\">\n",
      "                    <a class=\"lightbox\" href=\"./RabiesAwarenessSummit/ras0000.jpeg\">\n",
      "                        <img src=\"./RabiesAwarenessSummit/ras0000.jpeg\" alt=\"Images\">\n",
      "                    </a>\n",
      "                </div>\n",
      "<div class=\"col-sm-6 col-md-4\">\n",
      "                    <a class=\"lightbox\" href=\"./RabiesAwarenessSummit/ras0001.jpeg\">\n",
      "                        <img src=\"./RabiesAwarenessSummit/ras0001.jpeg\" alt=\"Images\">\n",
      "                    </a>\n",
      "                </div>\n",
      "<div class=\"col-sm-6 col-md-4\">\n",
      "                    <a class=\"lightbox\" href=\"./RabiesAwarenessSummit/ras0002.jpeg\">\n",
      "                        <img src=\"./RabiesAwarenessSummit/ras0002.jpeg\" alt=\"Images\">\n",
      "                    </a>\n",
      "                </div>\n",
      "<div class=\"col-sm-6 col-md-4\">\n",
      "                    <a class=\"lightbox\" href=\"./RabiesAwarenessSummit/ras0003.jpeg\">\n",
      "                        <img src=\"./RabiesAwarenessSummit/ras0003.jpeg\" alt=\"Images\">\n",
      "                    </a>\n",
      "                </div>\n",
      "<div class=\"col-sm-6 col-md-4\">\n",
      "                    <a class=\"lightbox\" href=\"./RabiesAwarenessSummit/ras0004.jpeg\">\n",
      "                        <img src=\"./RabiesAwarenessSummit/ras0004.jpeg\" alt=\"Images\">\n",
      "                    </a>\n",
      "                </div>\n",
      "<div class=\"col-sm-6 col-md-4\">\n",
      "                    <a class=\"lightbox\" href=\"./RabiesAwarenessSummit/ras0005.jpeg\">\n",
      "                        <img src=\"./RabiesAwarenessSummit/ras0005.jpeg\" alt=\"Images\">\n",
      "                    </a>\n",
      "                </div>\n",
      "<div class=\"col-sm-6 col-md-4\">\n",
      "                    <a class=\"lightbox\" href=\"./RabiesAwarenessSummit/ras0006.jpeg\">\n",
      "                        <img src=\"./RabiesAwarenessSummit/ras0006.jpeg\" alt=\"Images\">\n",
      "                    </a>\n",
      "                </div>\n",
      "<div class=\"col-sm-6 col-md-4\">\n",
      "                    <a class=\"lightbox\" href=\"./RabiesAwarenessSummit/ras0007.jpeg\">\n",
      "                        <img src=\"./RabiesAwarenessSummit/ras0007.jpeg\" alt=\"Images\">\n",
      "                    </a>\n",
      "                </div>\n",
      "<div class=\"col-sm-6 col-md-4\">\n",
      "                    <a class=\"lightbox\" href=\"./RabiesAwarenessSummit/ras0008.jpeg\">\n",
      "                        <img src=\"./RabiesAwarenessSummit/ras0008.jpeg\" alt=\"Images\">\n",
      "                    </a>\n",
      "                </div>\n",
      "<div class=\"col-sm-6 col-md-4\">\n",
      "                    <a class=\"lightbox\" href=\"./RabiesAwarenessSummit/ras0009.jpeg\">\n",
      "                        <img src=\"./RabiesAwarenessSummit/ras0009.jpeg\" alt=\"Images\">\n",
      "                    </a>\n",
      "                </div>\n",
      "<div class=\"col-sm-6 col-md-4\">\n",
      "                    <a class=\"lightbox\" href=\"./RabiesAwarenessSummit/ras0010.jpeg\">\n",
      "                        <img src=\"./RabiesAwarenessSummit/ras0010.jpeg\" alt=\"Images\">\n",
      "                    </a>\n",
      "                </div>\n",
      "<div class=\"col-sm-6 col-md-4\">\n",
      "                    <a class=\"lightbox\" href=\"./RabiesAwarenessSummit/ras0011.jpeg\">\n",
      "                        <img src=\"./RabiesAwarenessSummit/ras0011.jpeg\" alt=\"Images\">\n",
      "                    </a>\n",
      "                </div>\n",
      "<div class=\"col-sm-6 col-md-4\">\n",
      "                    <a class=\"lightbox\" href=\"./RabiesAwarenessSummit/ras0012.jpeg\">\n",
      "                        <img src=\"./RabiesAwarenessSummit/ras0012.jpeg\" alt=\"Images\">\n",
      "                    </a>\n",
      "                </div>\n",
      "<div class=\"col-sm-6 col-md-4\">\n",
      "                    <a class=\"lightbox\" href=\"./RabiesAwarenessSummit/ras0013.jpeg\">\n",
      "                        <img src=\"./RabiesAwarenessSummit/ras0013.jpeg\" alt=\"Images\">\n",
      "                    </a>\n",
      "                </div>\n"
     ]
    }
   ],
   "metadata": {}
  },
  {
   "cell_type": "code",
   "execution_count": null,
   "source": [],
   "outputs": [],
   "metadata": {}
  }
 ],
 "metadata": {
  "orig_nbformat": 4,
  "language_info": {
   "name": "python",
   "version": "3.7.5",
   "mimetype": "text/x-python",
   "codemirror_mode": {
    "name": "ipython",
    "version": 3
   },
   "pygments_lexer": "ipython3",
   "nbconvert_exporter": "python",
   "file_extension": ".py"
  },
  "kernelspec": {
   "name": "python3",
   "display_name": "Python 3.7.5 64-bit"
  },
  "interpreter": {
   "hash": "66089b8846fb2b1ce4d133ea1ca5583b4894b9236ac1532920f23c52431036a5"
  }
 },
 "nbformat": 4,
 "nbformat_minor": 2
}