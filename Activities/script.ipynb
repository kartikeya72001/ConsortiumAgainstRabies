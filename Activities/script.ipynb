{
 "cells": [
  {
   "cell_type": "code",
   "execution_count": 1,
   "source": [
    "import os"
   ],
   "outputs": [],
   "metadata": {}
  },
  {
   "cell_type": "code",
   "execution_count": 5,
   "source": [
    "arr = os.listdir(\"./WorldRabiesDay/\")"
   ],
   "outputs": [],
   "metadata": {}
  },
  {
   "cell_type": "code",
   "execution_count": 6,
   "source": [
    "for i in arr:\r\n",
    "    print(\"\\\"\"+\"./WorldRabiesDay/\"+i+\"\\\",\")"
   ],
   "outputs": [
    {
     "output_type": "stream",
     "name": "stdout",
     "text": [
      "\"./WorldRabiesDay/WRD0000.jpeg\",\n",
      "\"./WorldRabiesDay/WRD0001.jpeg\",\n",
      "\"./WorldRabiesDay/WRD0002.jpeg\",\n",
      "\"./WorldRabiesDay/WRD0003.jpeg\",\n",
      "\"./WorldRabiesDay/WRD0004.jpeg\",\n",
      "\"./WorldRabiesDay/WRD0005.jpeg\",\n",
      "\"./WorldRabiesDay/WRD0006.jpeg\",\n",
      "\"./WorldRabiesDay/WRD0007.jpeg\",\n",
      "\"./WorldRabiesDay/WRD0008.jpeg\",\n",
      "\"./WorldRabiesDay/WRD0009.jpeg\",\n",
      "\"./WorldRabiesDay/WRD0010.jpeg\",\n",
      "\"./WorldRabiesDay/WRD0011.jpeg\",\n",
      "\"./WorldRabiesDay/WRD0012.jpeg\",\n",
      "\"./WorldRabiesDay/WRD0013.jpeg\",\n",
      "\"./WorldRabiesDay/WRD0014.jpeg\",\n",
      "\"./WorldRabiesDay/WRD0015.jpeg\",\n",
      "\"./WorldRabiesDay/WRD0016.jpeg\",\n",
      "\"./WorldRabiesDay/WRD0017.jpeg\",\n"
     ]
    }
   ],
   "metadata": {}
  },
  {
   "cell_type": "code",
   "execution_count": 2,
   "source": [
    "def rename(path,newname,extension):\r\n",
    "    for count, filename in enumerate(os.listdir(path)):\r\n",
    "        dest = newname + str(count).zfill(4) + \".\" + extension\r\n",
    "        os.rename(os.path.join(path, filename), os.path.join(path, dest))\r\n",
    "        print(filename, count)"
   ],
   "outputs": [],
   "metadata": {}
  },
  {
   "cell_type": "code",
   "execution_count": 4,
   "source": [
    "path = input(\"Enter Folder Name\")\r\n",
    "newname = input(\"Enter New name\")\r\n",
    "extension = input(\"Enter the Extension of file\")\r\n",
    "rename(path,newname,extension)"
   ],
   "outputs": [
    {
     "output_type": "stream",
     "name": "stdout",
     "text": [
      "WhatsApp Image 2021-09-25 at 9.04.54 PM (1).jpeg 0\n",
      "WhatsApp Image 2021-09-25 at 9.04.54 PM (10).jpeg 1\n",
      "WhatsApp Image 2021-09-25 at 9.04.54 PM (11).jpeg 2\n",
      "WhatsApp Image 2021-09-25 at 9.04.54 PM (12).jpeg 3\n",
      "WhatsApp Image 2021-09-25 at 9.04.54 PM (13).jpeg 4\n",
      "WhatsApp Image 2021-09-25 at 9.04.54 PM (14).jpeg 5\n",
      "WhatsApp Image 2021-09-25 at 9.04.54 PM (15).jpeg 6\n",
      "WhatsApp Image 2021-09-25 at 9.04.54 PM (16).jpeg 7\n",
      "WhatsApp Image 2021-09-25 at 9.04.54 PM (17).jpeg 8\n",
      "WhatsApp Image 2021-09-25 at 9.04.54 PM (2).jpeg 9\n",
      "WhatsApp Image 2021-09-25 at 9.04.54 PM (3).jpeg 10\n",
      "WhatsApp Image 2021-09-25 at 9.04.54 PM (4).jpeg 11\n",
      "WhatsApp Image 2021-09-25 at 9.04.54 PM (5).jpeg 12\n",
      "WhatsApp Image 2021-09-25 at 9.04.54 PM (6).jpeg 13\n",
      "WhatsApp Image 2021-09-25 at 9.04.54 PM (7).jpeg 14\n",
      "WhatsApp Image 2021-09-25 at 9.04.54 PM (8).jpeg 15\n",
      "WhatsApp Image 2021-09-25 at 9.04.54 PM (9).jpeg 16\n",
      "WhatsApp Image 2021-09-25 at 9.04.54 PM.jpeg 17\n"
     ]
    }
   ],
   "metadata": {}
  },
  {
   "cell_type": "code",
   "execution_count": null,
   "source": [],
   "outputs": [],
   "metadata": {}
  }
 ],
 "metadata": {
  "orig_nbformat": 4,
  "language_info": {
   "name": "python",
   "version": "3.7.5",
   "mimetype": "text/x-python",
   "codemirror_mode": {
    "name": "ipython",
    "version": 3
   },
   "pygments_lexer": "ipython3",
   "nbconvert_exporter": "python",
   "file_extension": ".py"
  },
  "kernelspec": {
   "name": "python3",
   "display_name": "Python 3.7.5 64-bit"
  },
  "interpreter": {
   "hash": "66089b8846fb2b1ce4d133ea1ca5583b4894b9236ac1532920f23c52431036a5"
  }
 },
 "nbformat": 4,
 "nbformat_minor": 2
}